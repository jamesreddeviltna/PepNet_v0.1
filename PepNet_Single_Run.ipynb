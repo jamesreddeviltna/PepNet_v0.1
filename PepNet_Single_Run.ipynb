{
 "cells": [
  {
   "cell_type": "code",
   "execution_count": 2,
   "id": "63a46c59",
   "metadata": {},
   "outputs": [],
   "source": [
    "# import libraries\n",
    "import numpy as np\n",
    "import matplotlib.pyplot as plt\n",
    "import MDAnalysis as mda\n",
    "import pandas as pd\n",
    "from MDAnalysis.analysis import distances\n",
    "from scipy.linalg import expm\n",
    "import os\n",
    "from IPython.display import clear_output"
   ]
  },
  {
   "cell_type": "code",
   "execution_count": 3,
   "id": "248d1c1d",
   "metadata": {},
   "outputs": [],
   "source": [
    "import numpy as np\n",
    "import matplotlib.pyplot as plt\n",
    "import MDAnalysis as mda\n",
    "import pandas as pd\n",
    "from MDAnalysis.analysis import distances\n",
    "from scipy.linalg import expm\n",
    "import os\n",
    "\n",
    "### sequence and structural network module\n",
    "\n",
    "def network(df,entry):\n",
    "    pdb_id = df.PDB_ID[entry]\n",
    "    os.system('cp data/PDB_files/pdb'+pdb_id+'.ent protein_temp_.pdb')\n",
    "\n",
    "    Receptor_chain = df.Receptor_chain[entry]\n",
    "    peptide_chain_ID = df.peptide_chain_ID[entry]\n",
    "\n",
    "    # import a pdb file as the universe\n",
    "    PDB = 'protein_temp_.pdb'\n",
    "    u = mda.Universe(PDB,PDB)\n",
    "\n",
    "    # select only groups of receptor chain if receptor is longer than 50 aa\n",
    "    # otherwise select the whole protein\n",
    "    #if len(df['Receptor sequence'][entry]) > 50:\n",
    "        #CA = u.select_atoms('protein and name CA and chainID '+str(Receptor_chain))\n",
    "    #else:\n",
    "        #CA = u.select_atoms('protein and name CA and not chainID '+str(peptide_chain_ID))\n",
    "    CA = u.select_atoms('protein and name CA and chainID '+str(Receptor_chain))\n",
    "    CA.write(\"CA.pdb\")\n",
    "\n",
    "    # create the amino acid sequence list\n",
    "    seq = CA.atoms.resnames\n",
    "\n",
    "    # list of atom index with alternate locations (altLoc)\n",
    "    alt_index = []\n",
    "    for i in range(len(CA)):\n",
    "        if CA[i].altLoc != '' and CA[i].altLoc != 'A':\n",
    "            alt_index.append(i)\n",
    "\n",
    "    # positions of all c-alpha atoms - dropping altLoc - trim data to match the FASTA\n",
    "    pos_CA = np.delete(CA.positions,alt_index,axis=0)\n",
    "    n_amino = df.iloc[entry,:].len_protein_seq\n",
    "    pos_CA = pos_CA[:n_amino]\n",
    "    sequence = np.delete(seq,alt_index)\n",
    "    sequence = sequence[:n_amino]\n",
    "\n",
    "    # distance matrix\n",
    "    dist_mat = distances.distance_array(pos_CA, \n",
    "                                        pos_CA, \n",
    "                                        box=u.dimensions)\n",
    "\n",
    "    # adjacency matrix\n",
    "    cutoff = 7  # cutoff distance \n",
    "    A = dist_mat - cutoff; A[A>0] = 0; A[A<0] = 1\n",
    "\n",
    "    # communicability matrix (G) \n",
    "    # and (relative) subgraph centrality (SC)\n",
    "    G = expm(A); SC = G.diagonal()/np.min(G.diagonal())\n",
    "\n",
    "    return A, G, SC, sequence\n",
    "\n",
    "def binding_data(df,entry,A,G,SC):\n",
    "    # get binding residues\n",
    "    bind_res_str = df.bind_res_renum[entry].split()\n",
    "    bind_res_index = [int(r[1:])-1 for r in bind_res_str]\n",
    "    bind_res_index = [res for res in bind_res_index if res < len(A)]\n",
    "    bind_res_num = len(bind_res_index)\n",
    "    return bind_res_index, bind_res_num\n",
    "\n",
    "# amino acids were grouped by physico-chemical properties (PCP)\n",
    "# group 1 (R): aromatic side-chains (Phe, Trp, Tyr)\n",
    "# group 2 (L): aliphatic side-chains (Ile, Val, Leu, Ala, Gly, Pro, Met)\n",
    "# group 3 (P): basic (positively-charged) side-chains (Lys, Arg, His)\n",
    "# group 4 (N): acidic (negatively-charged) side-chains (Asp, Glu)\n",
    "# group 5 (U): polar-uncharged sideshains (Ser, Cys, Thr, Asn, Gln)\n",
    "# SEE BELOW - **initialize**\n",
    "\n",
    "# identifying interaction types from a pair of tripeptide\n",
    "# output 7 components\n",
    "# first 3 components: direct contacts\n",
    "# last 4 components: contacting with neighboring residues (indirect)\n",
    "# one-hot encode 25 PCP dipeptide interaction types\n",
    "# then output to 7x25 array\n",
    "\n",
    "def dipep(tripep1,tripep2):\n",
    "    dipep_index = []\n",
    "    \n",
    "    # direct contact\n",
    "    dipep_index.append(dipeptide_name.index(tripep1[0]+tripep2[0]))\n",
    "    dipep_index.append(dipeptide_name.index(tripep1[1]+tripep2[1]))\n",
    "    dipep_index.append(dipeptide_name.index(tripep1[2]+tripep2[2]))\n",
    "    \n",
    "    # indirect contact\n",
    "    dipep_index.append(dipeptide_name.index(tripep1[0]+tripep2[1]))\n",
    "    dipep_index.append(dipeptide_name.index(tripep1[1]+tripep2[2]))\n",
    "    dipep_index.append(dipeptide_name.index(tripep1[2]+tripep2[1]))\n",
    "    dipep_index.append(dipeptide_name.index(tripep1[1]+tripep2[0]))\n",
    "    \n",
    "    # one-hot encoding\n",
    "    dipep_one_hot = np.zeros((7,25))\n",
    "    dipep_one_hot[np.arange(7),np.array(dipep_index)] = 1\n",
    "\n",
    "    return dipep_one_hot\n",
    "    \n",
    "# 7x25x125x125 4D arrays: all possible interactions (dipeptide) types between \n",
    "# all 125 tripeptide types scored from an amino acid residue of protein \n",
    "# with all 125 tripeptide types scored from a peptide chain\n",
    "# first 3 layers: direct contacts\n",
    "# last 4 layers: contacting with neighboring residues (indirect)\n",
    "\n",
    "# create lists of dipeptide and tripeptide PCP characteristics\n",
    "\n",
    "def initialize_dipeptide_tripeptide():\n",
    "    dipeptide_name = []\n",
    "    for amino1 in ['R','L','P','N','U']:\n",
    "        for amino2 in ['R','L','P','N','U']:\n",
    "            dipeptide_name.append(amino1+amino2)\n",
    "\n",
    "    tripeptide_name = []\n",
    "    for amino1 in ['R','L','P','N','U']:\n",
    "        for amino2 in ['R','L','P','N','U']:\n",
    "            for amino3 in ['R','L','P','N','U']:\n",
    "                tripeptide_name.append(amino1+amino2+amino3)\n",
    "    \n",
    "    header200 = []\n",
    "    for order in ['_o1','_o2','_o3','_o4']:\n",
    "        for contact in ['_d','_i']:\n",
    "            for dipeptide in dipeptide_name:\n",
    "                header200.append(dipeptide+order+contact)\n",
    "\n",
    "    return dipeptide_name, tripeptide_name, header200\n",
    "\n",
    "def initialize_interactions():\n",
    "    pcp_interactions = np.zeros((7,25,125,125))\n",
    "    for i in range(125):\n",
    "        for j in range(125):\n",
    "            pcp_interactions[:,:,i,j] = dipep(tripeptide_name[i],tripeptide_name[j])\n",
    "\n",
    "    return pcp_interactions\n",
    "\n",
    "# convert amino acids into physico-chemical properties (PCP)            \n",
    "            \n",
    "def pcp_convert(amino):\n",
    "    if amino in ['PHE', 'TRP', 'TYR', 'F', 'W', 'Y']:\n",
    "        pcp = 'R'\n",
    "    elif amino in ['ILE','VAL','LEU','ALA','GLY','PRO','MET','I','V','L','A','G','P','M']:\n",
    "        pcp = 'L'\n",
    "    elif amino in ['LYS', 'ARG', 'HIS', 'K', 'R', 'H']:\n",
    "        pcp = 'P'\n",
    "    elif amino in ['ASP', 'GLU', 'D', 'E']:\n",
    "        pcp = 'N'\n",
    "    elif amino in ['SER', 'CYS', 'THR', 'ASN', 'GLN', 'S', 'C', 'T', 'N', 'Q']:\n",
    "        pcp = 'U'\n",
    "    else:\n",
    "        pcp = 'L'\n",
    "    return pcp\n",
    "            \n",
    "# create tripeptide vectors of size 125:\n",
    "# 111, 112, ..., 121, 122, ..., 211, 212, ..., 555\n",
    "# add +1 onto one-hot feature vector of matched tripeptide\n",
    "\n",
    "def tripeptide_convert(a1,a2,a3):\n",
    "    tripeptide_vec = np.zeros(125)\n",
    "    tripeptide = pcp_convert(a1) + pcp_convert(a2) + pcp_convert(a3)\n",
    "    tripeptide_vec[ tripeptide_name.index(tripeptide) ] += 1\n",
    "    return tripeptide_vec\n",
    "    \n",
    "# primary tripeptide featurizer for protein\n",
    "def protein_tripep_feats(res_index, A, sequence):\n",
    "\n",
    "    # searching for non-clustering neighbor tripep residues XYZ \n",
    "    # consider Y that (adjacency) A(X,Y)=1 and A(Y,Z)=1 and A(X,Z)=0 \n",
    "    index_Y = res_index\n",
    "    index_X_Z = np.where(A[index_Y]==1)[0]  # A(X,Y)=1 and A(Y,Z)=1\n",
    "    A_X_Z = A[index_X_Z][:,index_X_Z]  # submatrix of A at X and Z\n",
    "\n",
    "    index_X = index_X_Z[ np.where(A_X_Z==0)[0] ]  # getting the satisfied X\n",
    "    index_Z = index_X_Z[ np.where(A_X_Z==0)[1] ]  # getting the satisfied Z\n",
    "    \n",
    "    # FEATURE 1-125: tripeptide counts \n",
    "    # getting tripeptide sequence and convert into a 125-element vector\n",
    "    tripep_feat_vec = np.zeros(125)\n",
    "    for i in range(len(index_X)):\n",
    "        tripep_feat_vec += tripeptide_convert(sequence[ index_X[i] ],\n",
    "                                       sequence[ index_Y ],\n",
    "                                       sequence[ index_Z[i] ])  \n",
    "    # weight the frequency of finding each type of tripeptide by probability    \n",
    "    tripep_feat_vec = tripep_feat_vec / (2*len(index_X)+1)\n",
    "    return tripep_feat_vec\n",
    "\n",
    "# primary tripeptide featurizer for protein\n",
    "def peptide_tripep_feats(df, entry):\n",
    "    # peptide length\n",
    "    peptide_seq = df.peptide_seq.iloc[entry]\n",
    "    peptide_length = df.len_peptide_seq.iloc[entry]\n",
    "\n",
    "    # searching for neighbor tripeptide residues XYZ\n",
    "    # for 1st, 2nd, 3rd, and 4th-order nearest neighbors\n",
    "    tripep_index = [[],[],[],[]]\n",
    "    for res_index in range(peptide_length):\n",
    "        for order in range(1,5):\n",
    "            index_X = res_index - order\n",
    "            index_Y = res_index\n",
    "            index_Z = res_index + order\n",
    "            if index_Z < peptide_length and index_X >= 0:\n",
    "                tripep_index[order-1].append([index_X,index_Y,index_Z])\n",
    "    \n",
    "    # FEATURE 1-125: tripeptide counts \n",
    "    # getting tripeptide sequence and convert into a 125-element vector\n",
    "    tripep_feat_vec = np.zeros((4,125))\n",
    "    for order_1 in range(4):\n",
    "        for i_tripep in tripep_index[order_1]:\n",
    "            tripep_feat_vec[order_1] += tripeptide_convert(peptide_seq[ i_tripep[0] ],\n",
    "                                           peptide_seq[ i_tripep[1] ],\n",
    "                                           peptide_seq[ i_tripep[2] ])  \n",
    "    # weight the frequency of finding each type of tripeptide by peptide length    \n",
    "    tripep_feat_vec = tripep_feat_vec / peptide_length\n",
    "    return tripep_feat_vec    \n",
    "            \n",
    "# extracting 50 interaction features \n",
    "# 25 dipeptide PCP characteristics with direct contacts\n",
    "# 25 dipeptide PCP characteristics with indirect contacts\n",
    "\n",
    "def dipep_feature50(pep125,prot125):\n",
    "    # outer products: row:protein, col:peptide >> possible tripeptide pairs\n",
    "    prot125_pep125 = np.outer(pep125,prot125)\n",
    "\n",
    "    # stacking the 2D array into a 4D array for broadcasting with pcp_interactions\n",
    "    prot125_pep125_4d = []\n",
    "    for i in range(7):\n",
    "        prot125_pep125_3d = []\n",
    "        for j in range(25):\n",
    "            prot125_pep125_3d.append(prot125_pep125)\n",
    "        prot125_pep125_4d.append(prot125_pep125_3d)\n",
    "    prot125_pep125_4d = np.array(prot125_pep125_4d)\n",
    "\n",
    "    # broadcast into dipeptide feature vector\n",
    "    prot125_pep125_pcp =  prot125_pep125_4d*pcp_interactions\n",
    "    dipep_sum = np.sum(np.sum(prot125_pep125_pcp,axis=3),axis=2)\n",
    "    dipep_direct = np.sum(dipep_sum[:3,:],axis=0) # with direct contacts\n",
    "    dipep_indirect = 0.5*np.sum(dipep_sum[3:,:],axis=0) # with direct contacts\n",
    "    return dipep_direct, dipep_indirect\n",
    "\n",
    "# extract 200 feature for protein's amino acid - peptide interactions\n",
    "# 1-50: 1st nearest neighbor peptide residues \n",
    "## 1-25,26-50 direct and indirect contacts \n",
    "# 51-50: 2nd nearest neighbor peptide residues \n",
    "## 50+ 1-25,26-50 direct and indirect contacts \n",
    "# 101-150: 3rd nearest neighbor peptide residues \n",
    "## 100+ 1-25,26-50 direct and indirect contacts \n",
    "# 151-200: 4th nearest neighbor peptide residues \n",
    "## 125+ 1-25,26-50 direct and indirect contacts \n",
    "\n",
    "def featurizer200(df,entry,res_index):\n",
    "    feat_vec = np.zeros(200)\n",
    "    for order_1 in range(4): \n",
    "        prot125 = protein_tripep_feats(res_index,A,sequence)\n",
    "        pep125 = peptide_tripep_feats(df,entry)[order_1]\n",
    "        dipep_direct, dipep_indirect = dipep_feature50(pep125,prot125)\n",
    "        feat_vec[50*order_1:50*order_1+25] = dipep_direct\n",
    "        feat_vec[50*order_1+25:50*order_1+50] = dipep_direct\n",
    "    return feat_vec\n",
    "\n",
    "### sequence and structural network module\n",
    "\n",
    "def network_from_PDB(PDB):\n",
    "    u = mda.Universe(PDB,PDB)\n",
    "\n",
    "    # select only groups of receptor chain if receptor is longer than 50 aa\n",
    "    # otherwise select the whole protein\n",
    "    #if len(df['Receptor sequence'][entry]) > 50:\n",
    "        #CA = u.select_atoms('protein and name CA and chainID '+str(Receptor_chain))\n",
    "    #else:\n",
    "        #CA = u.select_atoms('protein and name CA and not chainID '+str(peptide_chain_ID))\n",
    "    CA = u.select_atoms('protein and name CA')\n",
    "    CA.write(\"CA.pdb\")\n",
    "\n",
    "    # create the amino acid sequence list\n",
    "    seq = CA.atoms.resnames\n",
    "\n",
    "    # list of atom index with alternate locations (altLoc)\n",
    "    alt_index = []\n",
    "    for i in range(len(CA)):\n",
    "        if CA[i].altLoc != '' and CA[i].altLoc != 'A':\n",
    "            alt_index.append(i)\n",
    "\n",
    "    # positions of all c-alpha atoms - dropping altLoc - trim data to match the FASTA\n",
    "    pos_CA = np.delete(CA.positions,alt_index,axis=0)\n",
    "    n_amino = len(seq)\n",
    "    pos_CA = pos_CA[:n_amino]\n",
    "    sequence = np.delete(seq,alt_index)\n",
    "    sequence = sequence[:n_amino]\n",
    "\n",
    "    # distance matrix\n",
    "    dist_mat = distances.distance_array(pos_CA, \n",
    "                                        pos_CA, \n",
    "                                        box=u.dimensions)\n",
    "\n",
    "    # adjacency matrix\n",
    "    cutoff = 7  # cutoff distance \n",
    "    A = dist_mat - cutoff; A[A>0] = 0; A[A<0] = 1\n",
    "\n",
    "    # communicability matrix (G) \n",
    "    # and (relative) subgraph centrality (SC)\n",
    "    G = expm(A); SC = G.diagonal()/np.min(G.diagonal())\n",
    "\n",
    "    return A, G, SC, sequence\n",
    "\n",
    "### network with varied cutoff\n",
    "\n",
    "def network_from_PDB_cutoff(PDB,cutoff):\n",
    "    u = mda.Universe(PDB,PDB)\n",
    "\n",
    "    # select only groups of receptor chain if receptor is longer than 50 aa\n",
    "    # otherwise select the whole protein\n",
    "    #if len(df['Receptor sequence'][entry]) > 50:\n",
    "        #CA = u.select_atoms('protein and name CA and chainID '+str(Receptor_chain))\n",
    "    #else:\n",
    "        #CA = u.select_atoms('protein and name CA and not chainID '+str(peptide_chain_ID))\n",
    "    CA = u.select_atoms('protein and name CA')\n",
    "    CA.write(\"CA.pdb\")\n",
    "\n",
    "    # create the amino acid sequence list\n",
    "    seq = CA.atoms.resnames\n",
    "\n",
    "    # list of atom index with alternate locations (altLoc)\n",
    "    alt_index = []\n",
    "    for i in range(len(CA)):\n",
    "        if CA[i].altLoc != '' and CA[i].altLoc != 'A':\n",
    "            alt_index.append(i)\n",
    "\n",
    "    # positions of all c-alpha atoms - dropping altLoc - trim data to match the FASTA\n",
    "    pos_CA = np.delete(CA.positions,alt_index,axis=0)\n",
    "    n_amino = len(seq)\n",
    "    pos_CA = pos_CA[:n_amino]\n",
    "    sequence = np.delete(seq,alt_index)\n",
    "    sequence = sequence[:n_amino]\n",
    "\n",
    "    # distance matrix\n",
    "    dist_mat = distances.distance_array(pos_CA, \n",
    "                                        pos_CA, \n",
    "                                        box=u.dimensions)\n",
    "\n",
    "    # adjacency matrix\n",
    "    A = dist_mat - cutoff; A[A>0] = 0; A[A<0] = 1\n",
    "\n",
    "    # communicability matrix (G) \n",
    "    # and (relative) subgraph centrality (SC)\n",
    "    G = expm(A); SC = G.diagonal()/np.min(G.diagonal())\n",
    "\n",
    "    return A, G, SC"
   ]
  },
  {
   "cell_type": "code",
   "execution_count": 4,
   "id": "4e7553aa",
   "metadata": {},
   "outputs": [],
   "source": [
    "# loading the pre-trained model\n",
    "\n",
    "## some time later...\n",
    "\n",
    "import pickle\n",
    "\n",
    "# load the model from disk\n",
    "filename = 'model.sav'\n",
    "loaded_model = pickle.load(open(filename, 'rb'))"
   ]
  },
  {
   "cell_type": "code",
   "execution_count": 5,
   "id": "56d9914f",
   "metadata": {},
   "outputs": [],
   "source": [
    "# create empty dataframe for inputting data\n",
    "pep_data_input = pd.DataFrame()\n",
    "\n",
    "# list of peptide sequences\n",
    "# Ex. synthetic peptide to bind with ACE2 RBD from \n",
    "# https://www.frontiersin.org/journals/microbiology/articles/10.3389/fmicb.2022.910343/full\n",
    "\n",
    "peptide_seq_list = []\n",
    "len_peptide_seq_list = []\n",
    "\n",
    "f = open('pep_input','r')\n",
    "for line in f:\n",
    "    if line[:-1] != '':\n",
    "        peptide_seq_list.append(line.split()[0])\n",
    "        len_peptide_seq_list.append(len(line.split()[0]))\n",
    "f.close()\n",
    "\n",
    "# add data into the dataframe\n",
    "pep_data_input['entry'] = list(range(len(peptide_seq_list)))\n",
    "pep_data_input['peptide_seq'] = peptide_seq_list\n",
    "pep_data_input['len_peptide_seq'] = len_peptide_seq_list"
   ]
  },
  {
   "cell_type": "code",
   "execution_count": 6,
   "id": "2af03023",
   "metadata": {},
   "outputs": [
    {
     "data": {
      "text/html": [
       "<div>\n",
       "<style scoped>\n",
       "    .dataframe tbody tr th:only-of-type {\n",
       "        vertical-align: middle;\n",
       "    }\n",
       "\n",
       "    .dataframe tbody tr th {\n",
       "        vertical-align: top;\n",
       "    }\n",
       "\n",
       "    .dataframe thead th {\n",
       "        text-align: right;\n",
       "    }\n",
       "</style>\n",
       "<table border=\"1\" class=\"dataframe\">\n",
       "  <thead>\n",
       "    <tr style=\"text-align: right;\">\n",
       "      <th></th>\n",
       "      <th>entry</th>\n",
       "      <th>peptide_seq</th>\n",
       "      <th>len_peptide_seq</th>\n",
       "    </tr>\n",
       "  </thead>\n",
       "  <tbody>\n",
       "    <tr>\n",
       "      <th>0</th>\n",
       "      <td>0</td>\n",
       "      <td>EEQAKTFLDKFNHEAEDLFYQSSLASWNYN</td>\n",
       "      <td>30</td>\n",
       "    </tr>\n",
       "  </tbody>\n",
       "</table>\n",
       "</div>"
      ],
      "text/plain": [
       "   entry                     peptide_seq  len_peptide_seq\n",
       "0      0  EEQAKTFLDKFNHEAEDLFYQSSLASWNYN               30"
      ]
     },
     "execution_count": 6,
     "metadata": {},
     "output_type": "execute_result"
    }
   ],
   "source": [
    "pep_data_input"
   ]
  },
  {
   "cell_type": "code",
   "execution_count": 85,
   "id": "2339f69d",
   "metadata": {},
   "outputs": [],
   "source": [
    "# OR upload the dataset\n",
    "\n",
    "# load the peptide data and screen for only peptides with lengths <30\n",
    "\n",
    "pep_data = pd.read_csv('general_amps.csv')\n",
    "pep_data = pep_data[[\"Name\",\"Source\",\"Sequence\",\"Sequence_Length\"]]\n",
    "pep_data = pep_data[pep_data.Sequence_Length<=30]\n",
    "\n",
    "# screen for only peptides with complete sequence information\n",
    "\n",
    "n_pep = len(pep_data)\n",
    "\n",
    "Sequence_Complete = np.ones(n_pep).astype('int')\n",
    "len_peptide_seq_list = np.zeros(n_pep).astype('int')\n",
    "for i in range(n_pep):\n",
    "    seq = pep_data.Sequence.iloc[i]\n",
    "    for amino in str(seq):\n",
    "        len_peptide_seq_list[i] = len(str(seq))\n",
    "        if amino not in 'RHKDESTNQCUGPAVILMFYW':\n",
    "            Sequence_Complete[i] = 0\n",
    "            break\n",
    "pep_data['Sequence_Length'] = len_peptide_seq_list\n",
    "            \n",
    "pep_data['Sequence_Complete'] = Sequence_Complete\n",
    "pep_data = pep_data[pep_data.Sequence_Complete==1]\n",
    "\n",
    "pep_data['entry'] = list(range(len(pep_data)))\n",
    "pep_data = pep_data.rename(columns={'Sequence':'peptide_seq','Sequence_Length':'len_peptide_seq'})\n",
    "\n",
    "pep_data_input = pep_data"
   ]
  },
  {
   "cell_type": "code",
   "execution_count": 86,
   "id": "f288fcfb",
   "metadata": {},
   "outputs": [
    {
     "data": {
      "text/html": [
       "<div>\n",
       "<style scoped>\n",
       "    .dataframe tbody tr th:only-of-type {\n",
       "        vertical-align: middle;\n",
       "    }\n",
       "\n",
       "    .dataframe tbody tr th {\n",
       "        vertical-align: top;\n",
       "    }\n",
       "\n",
       "    .dataframe thead th {\n",
       "        text-align: right;\n",
       "    }\n",
       "</style>\n",
       "<table border=\"1\" class=\"dataframe\">\n",
       "  <thead>\n",
       "    <tr style=\"text-align: right;\">\n",
       "      <th></th>\n",
       "      <th>Name</th>\n",
       "      <th>Source</th>\n",
       "      <th>peptide_seq</th>\n",
       "      <th>len_peptide_seq</th>\n",
       "      <th>Sequence_Complete</th>\n",
       "      <th>entry</th>\n",
       "    </tr>\n",
       "  </thead>\n",
       "  <tbody>\n",
       "    <tr>\n",
       "      <th>0</th>\n",
       "      <td>Epicidin 280 (Bacteriocin)</td>\n",
       "      <td>Staphylococcus epidermidis BN 280 (Gram-positi...</td>\n",
       "      <td>SLGPAIKATRQVCPKATRFVTVSCKKSDCQ</td>\n",
       "      <td>30</td>\n",
       "      <td>1</td>\n",
       "      <td>0</td>\n",
       "    </tr>\n",
       "    <tr>\n",
       "      <th>1</th>\n",
       "      <td>Microbisporicin A1 (Bacteriocin)</td>\n",
       "      <td>Microbispora corallina (Gram-positive bacteria)</td>\n",
       "      <td>VTSWSLCTPGCTSPGGGSNCSFCC</td>\n",
       "      <td>24</td>\n",
       "      <td>1</td>\n",
       "      <td>1</td>\n",
       "    </tr>\n",
       "    <tr>\n",
       "      <th>2</th>\n",
       "      <td>Ruminococcin A (RumA; Bacteriocin)</td>\n",
       "      <td>Ruminococcus gnavus &amp; Ruminococcus hansenii (G...</td>\n",
       "      <td>GNGVLKTISHECNMNTWQFLFTCC</td>\n",
       "      <td>24</td>\n",
       "      <td>1</td>\n",
       "      <td>2</td>\n",
       "    </tr>\n",
       "    <tr>\n",
       "      <th>3</th>\n",
       "      <td>Lantibiotic michiganin-A (Bacteriocin)</td>\n",
       "      <td>Clavibacter michiganensis subsp. Michiganensis...</td>\n",
       "      <td>SSSGWLCTLTIECGTIICACR</td>\n",
       "      <td>21</td>\n",
       "      <td>1</td>\n",
       "      <td>3</td>\n",
       "    </tr>\n",
       "    <tr>\n",
       "      <th>14</th>\n",
       "      <td>Plantaricin J (PlnJ; Bacteriocin)</td>\n",
       "      <td>Lactobacillus plantarum C11 (Gram-positive bac...</td>\n",
       "      <td>GAWKNFWSSLRKGFYDGEAGRAIRR</td>\n",
       "      <td>25</td>\n",
       "      <td>1</td>\n",
       "      <td>4</td>\n",
       "    </tr>\n",
       "    <tr>\n",
       "      <th>...</th>\n",
       "      <td>...</td>\n",
       "      <td>...</td>\n",
       "      <td>...</td>\n",
       "      <td>...</td>\n",
       "      <td>...</td>\n",
       "      <td>...</td>\n",
       "    </tr>\n",
       "    <tr>\n",
       "      <th>6005</th>\n",
       "      <td>P8</td>\n",
       "      <td>Synthetic construct</td>\n",
       "      <td>SALEEQLKTFLDKFMHELEDLLYQLAL</td>\n",
       "      <td>27</td>\n",
       "      <td>1</td>\n",
       "      <td>3354</td>\n",
       "    </tr>\n",
       "    <tr>\n",
       "      <th>6006</th>\n",
       "      <td>P9</td>\n",
       "      <td>Synthetic construct</td>\n",
       "      <td>SALEEQYKTFLDKFMHELEDLLYQLSL</td>\n",
       "      <td>27</td>\n",
       "      <td>1</td>\n",
       "      <td>3355</td>\n",
       "    </tr>\n",
       "    <tr>\n",
       "      <th>6007</th>\n",
       "      <td>P10</td>\n",
       "      <td>Synthetic construct</td>\n",
       "      <td>SALEEQYKTFLDKFMHELEDLLYQLAL</td>\n",
       "      <td>27</td>\n",
       "      <td>1</td>\n",
       "      <td>3356</td>\n",
       "    </tr>\n",
       "    <tr>\n",
       "      <th>6008</th>\n",
       "      <td>FBP</td>\n",
       "      <td>Synthetic construct</td>\n",
       "      <td>RGAHIKGRWKSRCHRF</td>\n",
       "      <td>16</td>\n",
       "      <td>1</td>\n",
       "      <td>3357</td>\n",
       "    </tr>\n",
       "    <tr>\n",
       "      <th>6033</th>\n",
       "      <td>Cycloviolacin-O24 (Plant defensin)</td>\n",
       "      <td>Viola odorata (Sweet violet)</td>\n",
       "      <td>GLPTCGETCFGGTCNTPGCTCDPWPVCTHN</td>\n",
       "      <td>30</td>\n",
       "      <td>1</td>\n",
       "      <td>3358</td>\n",
       "    </tr>\n",
       "  </tbody>\n",
       "</table>\n",
       "<p>3359 rows × 6 columns</p>\n",
       "</div>"
      ],
      "text/plain": [
       "                                        Name  \\\n",
       "0                 Epicidin 280 (Bacteriocin)   \n",
       "1           Microbisporicin A1 (Bacteriocin)   \n",
       "2         Ruminococcin A (RumA; Bacteriocin)   \n",
       "3     Lantibiotic michiganin-A (Bacteriocin)   \n",
       "14         Plantaricin J (PlnJ; Bacteriocin)   \n",
       "...                                      ...   \n",
       "6005                                      P8   \n",
       "6006                                      P9   \n",
       "6007                                     P10   \n",
       "6008                                     FBP   \n",
       "6033      Cycloviolacin-O24 (Plant defensin)   \n",
       "\n",
       "                                                 Source  \\\n",
       "0     Staphylococcus epidermidis BN 280 (Gram-positi...   \n",
       "1       Microbispora corallina (Gram-positive bacteria)   \n",
       "2     Ruminococcus gnavus & Ruminococcus hansenii (G...   \n",
       "3     Clavibacter michiganensis subsp. Michiganensis...   \n",
       "14    Lactobacillus plantarum C11 (Gram-positive bac...   \n",
       "...                                                 ...   \n",
       "6005                                Synthetic construct   \n",
       "6006                                Synthetic construct   \n",
       "6007                                Synthetic construct   \n",
       "6008                                Synthetic construct   \n",
       "6033                       Viola odorata (Sweet violet)   \n",
       "\n",
       "                         peptide_seq  len_peptide_seq  Sequence_Complete  \\\n",
       "0     SLGPAIKATRQVCPKATRFVTVSCKKSDCQ               30                  1   \n",
       "1           VTSWSLCTPGCTSPGGGSNCSFCC               24                  1   \n",
       "2           GNGVLKTISHECNMNTWQFLFTCC               24                  1   \n",
       "3              SSSGWLCTLTIECGTIICACR               21                  1   \n",
       "14         GAWKNFWSSLRKGFYDGEAGRAIRR               25                  1   \n",
       "...                              ...              ...                ...   \n",
       "6005     SALEEQLKTFLDKFMHELEDLLYQLAL               27                  1   \n",
       "6006     SALEEQYKTFLDKFMHELEDLLYQLSL               27                  1   \n",
       "6007     SALEEQYKTFLDKFMHELEDLLYQLAL               27                  1   \n",
       "6008                RGAHIKGRWKSRCHRF               16                  1   \n",
       "6033  GLPTCGETCFGGTCNTPGCTCDPWPVCTHN               30                  1   \n",
       "\n",
       "      entry  \n",
       "0         0  \n",
       "1         1  \n",
       "2         2  \n",
       "3         3  \n",
       "14        4  \n",
       "...     ...  \n",
       "6005   3354  \n",
       "6006   3355  \n",
       "6007   3356  \n",
       "6008   3357  \n",
       "6033   3358  \n",
       "\n",
       "[3359 rows x 6 columns]"
      ]
     },
     "execution_count": 86,
     "metadata": {},
     "output_type": "execute_result"
    }
   ],
   "source": [
    "pep_data_input"
   ]
  },
  {
   "cell_type": "code",
   "execution_count": 13,
   "id": "7ae445a9",
   "metadata": {},
   "outputs": [
    {
     "name": "stdout",
     "output_type": "stream",
     "text": [
      "0/1\n"
     ]
    }
   ],
   "source": [
    "protein_file = 'rbd_new.pdb'\n",
    "\n",
    "from IPython.display import clear_output\n",
    "\n",
    "# extract 200 dipeptide interaction features for each peptide data\n",
    "n_peptide = len(pep_data_input)\n",
    "\n",
    "# initialization\n",
    "dipeptide_name, tripeptide_name, header200 = initialize_dipeptide_tripeptide()\n",
    "pcp_interactions = initialize_interactions()\n",
    "\n",
    "# create network data and tripeptide features\n",
    "A, G, SC, sequence = network_from_PDB(protein_file)\n",
    "\n",
    "n_data = len(pep_data_input)*len(A)\n",
    "X_input = np.zeros((n_data,200))\n",
    "\n",
    "index = 0\n",
    "for entry in list(pep_data_input.entry):\n",
    "    n_amino = len(A)\n",
    "    for res_index in range(n_amino):\n",
    "        X_input[index+res_index] = featurizer200(pep_data_input,entry,res_index)\n",
    "    index += n_amino\n",
    "    clear_output(wait=True)\n",
    "    print(str(entry)+'/'+str(n_peptide))\n",
    "\n",
    "X_pep_data_input = X_input   "
   ]
  },
  {
   "cell_type": "code",
   "execution_count": 16,
   "id": "0191825b",
   "metadata": {},
   "outputs": [],
   "source": [
    "import matplotlib.pyplot as plt"
   ]
  },
  {
   "cell_type": "markdown",
   "id": "afa9b49c",
   "metadata": {},
   "source": [
    "### Plotting epitope features"
   ]
  },
  {
   "cell_type": "code",
   "execution_count": 27,
   "id": "71093169",
   "metadata": {},
   "outputs": [
    {
     "data": {
      "text/plain": [
       "<matplotlib.image.AxesImage at 0x7f917fa84130>"
      ]
     },
     "execution_count": 27,
     "metadata": {},
     "output_type": "execute_result"
    },
    {
     "data": {
      "image/png": "[encoded data removed]",
      "text/plain": [
       "<Figure size 432x288 with 1 Axes>"
      ]
     },
     "metadata": {
      "needs_background": "light"
     },
     "output_type": "display_data"
    }
   ],
   "source": [
    "res_index_binding = [77,161,165,106,112,144,5,100]\n",
    "prot125_epitope = np.zeros((8,125))\n",
    "for i in range(8):\n",
    "    prot125_epitope[i] = protein_tripep_feats(res_index_binding[i], A, sequence)\n",
    "plt.imshow(prot125_epitope)"
   ]
  },
  {
   "cell_type": "code",
   "execution_count": 40,
   "id": "1e9b89f7",
   "metadata": {},
   "outputs": [
    {
     "name": "stdout",
     "output_type": "stream",
     "text": [
      "[417 501 505 446 452 484 345 440]\n"
     ]
    }
   ],
   "source": [
    "print(340+np.array([77,161,165,106,112,144,5,100]))"
   ]
  },
  {
   "cell_type": "code",
   "execution_count": 33,
   "id": "d6ae2a57",
   "metadata": {},
   "outputs": [
    {
     "data": {
      "image/png": "[encoded data removed]",
      "text/plain": [
       "<Figure size 432x288 with 1 Axes>"
      ]
     },
     "metadata": {
      "needs_background": "light"
     },
     "output_type": "display_data"
    },
    {
     "name": "stdout",
     "output_type": "stream",
     "text": [
      "UPU\n",
      "LUL\n",
      "LLU\n",
      "ULL\n",
      "UUR\n",
      "RUU\n",
      "LLR\n",
      "RLL\n",
      "PUU\n",
      "UUP\n",
      "RUL\n",
      "LUR\n",
      "ULU\n",
      "PLU\n",
      "ULP\n",
      "LLL\n",
      "RRR\n",
      "NUL\n",
      "LUN\n",
      "RUR\n"
     ]
    }
   ],
   "source": [
    "sum_prot125_epitope = np.sum(prot125_epitope,axis=0)\n",
    "prot125_epitope_sorted = np.argsort(sum_prot125_epitope)[::-1]\n",
    "plt.plot(sum_prot125_epitope)\n",
    "plt.show()\n",
    "for i in range(20):\n",
    "    print(tripeptide_name[prot125_epitope_sorted[i]])"
   ]
  },
  {
   "cell_type": "code",
   "execution_count": 39,
   "id": "46ded098",
   "metadata": {},
   "outputs": [
    {
     "data": {
      "image/png": "[encoded data removed]",
      "text/plain": [
       "<Figure size 432x288 with 1 Axes>"
      ]
     },
     "metadata": {
      "needs_background": "light"
     },
     "output_type": "display_data"
    }
   ],
   "source": [
    "prot125_epitope_top20 = np.zeros((8,20))\n",
    "for i in range(8):\n",
    "    prot125_epitope_top20[i] = prot125_epitope[i,prot125_epitope_sorted[:20]]\n",
    "plt.imshow(prot125_epitope_top20)\n",
    "plt.show()\n",
    "np.savetxt('prot125_epitope_top20.csv',prot125_epitope_top20,delimiter=',')"
   ]
  },
  {
   "cell_type": "code",
   "execution_count": 37,
   "id": "48738c73",
   "metadata": {},
   "outputs": [
    {
     "data": {
      "text/plain": [
       "array([0.        , 0.28571429, 0.        , 0.        , 0.        ,\n",
       "       0.        , 0.        , 0.        , 0.        , 0.        ,\n",
       "       0.04761905, 0.04761905, 0.        , 0.        , 0.        ,\n",
       "       0.        , 0.        , 0.04761905, 0.04761905, 0.        ])"
      ]
     },
     "execution_count": 37,
     "metadata": {},
     "output_type": "execute_result"
    }
   ],
   "source": [
    "prot125_epitope[0,prot125_epitope_sorted[:20]]"
   ]
  },
  {
   "cell_type": "markdown",
   "id": "56ec8c45",
   "metadata": {},
   "source": [
    "### Plotting predicted residue features"
   ]
  },
  {
   "cell_type": "code",
   "execution_count": 41,
   "id": "2623c004",
   "metadata": {},
   "outputs": [
    {
     "data": {
      "text/plain": [
       "<matplotlib.image.AxesImage at 0x7f917a6fc1c0>"
      ]
     },
     "execution_count": 41,
     "metadata": {},
     "output_type": "execute_result"
    },
    {
     "data": {
      "image/png": "[encoded data removed]",
      "text/plain": [
       "<Figure size 432x288 with 1 Axes>"
      ]
     },
     "metadata": {
      "needs_background": "light"
     },
     "output_type": "display_data"
    }
   ],
   "source": [
    "res_index_binding = [29,33,34,35,83,154,155,7,149]\n",
    "prot125_predicted = np.zeros((9,125))\n",
    "for i in range(9):\n",
    "    prot125_predicted[i] = protein_tripep_feats(res_index_binding[i], A, sequence)\n",
    "plt.imshow(prot125_predicted)"
   ]
  },
  {
   "cell_type": "code",
   "execution_count": 42,
   "id": "eaeb8e15",
   "metadata": {},
   "outputs": [
    {
     "name": "stdout",
     "output_type": "stream",
     "text": [
      "[369 373 374 375 423 494 495 347 489]\n"
     ]
    }
   ],
   "source": [
    "print(340+np.array([29,33,34,35,83,154,155,7,149]))"
   ]
  },
  {
   "cell_type": "code",
   "execution_count": 43,
   "id": "5e9a72d6",
   "metadata": {},
   "outputs": [
    {
     "data": {
      "image/png": "[encoded data removed]",
      "text/plain": [
       "<Figure size 432x288 with 1 Axes>"
      ]
     },
     "metadata": {
      "needs_background": "light"
     },
     "output_type": "display_data"
    },
    {
     "name": "stdout",
     "output_type": "stream",
     "text": [
      "LRL\n",
      "RRR\n",
      "LRR\n",
      "RRL\n",
      "RLR\n",
      "LRU\n",
      "URL\n",
      "RRU\n",
      "URR\n",
      "PRL\n",
      "LRP\n",
      "RLL\n",
      "LLR\n",
      "URU\n",
      "PRR\n",
      "RRP\n",
      "PLR\n",
      "ULR\n",
      "ULU\n",
      "RLP\n"
     ]
    }
   ],
   "source": [
    "sum_prot125_predicted = np.sum(prot125_predicted,axis=0)\n",
    "prot125_predicted_sorted = np.argsort(sum_prot125_predicted)[::-1]\n",
    "plt.plot(sum_prot125_predicted)\n",
    "plt.show()\n",
    "for i in range(20):\n",
    "    print(tripeptide_name[prot125_predicted_sorted[i]])"
   ]
  },
  {
   "cell_type": "code",
   "execution_count": 83,
   "id": "ef6832af",
   "metadata": {},
   "outputs": [
    {
     "data": {
      "image/png": "[encoded data removed]",
      "text/plain": [
       "<Figure size 432x288 with 2 Axes>"
      ]
     },
     "metadata": {
      "needs_background": "light"
     },
     "output_type": "display_data"
    }
   ],
   "source": [
    "prot125_predicted_top20 = np.zeros((9,20))\n",
    "for i in range(9):\n",
    "    prot125_predicted_top20[i] = prot125_predicted[i,prot125_predicted_sorted[:20]]\n",
    "plt.imshow(prot125_predicted_top20)\n",
    "plt.colorbar()\n",
    "plt.show()\n",
    "np.savetxt('prot125_predicted_top20.csv',prot125_predicted_top20,delimiter=',')"
   ]
  },
  {
   "cell_type": "markdown",
   "id": "1c096851",
   "metadata": {},
   "source": [
    "### Plotting peptide features"
   ]
  },
  {
   "cell_type": "code",
   "execution_count": 45,
   "id": "717f5ccf",
   "metadata": {},
   "outputs": [],
   "source": [
    "# primary tripeptide featurizer for protein\n",
    "def peptide_tripep(peptide_seq):\n",
    "    # peptide length\n",
    "    peptide_length = len(peptide_seq)\n",
    "\n",
    "    # searching for neighbor tripeptide residues XYZ\n",
    "    # for 1st, 2nd, 3rd, and 4th-order nearest neighbors\n",
    "    tripep_index = [[],[],[],[]]\n",
    "    for res_index in range(peptide_length):\n",
    "        for order in range(1,5):\n",
    "            index_X = res_index - order\n",
    "            index_Y = res_index\n",
    "            index_Z = res_index + order\n",
    "            if index_Z < peptide_length and index_X >= 0:\n",
    "                tripep_index[order-1].append([index_X,index_Y,index_Z])\n",
    "    \n",
    "    # FEATURE 1-125: tripeptide counts \n",
    "    # getting tripeptide sequence and convert into a 125-element vector\n",
    "    tripep_feat_vec = np.zeros((4,125))\n",
    "    for order_1 in range(4):\n",
    "        for i_tripep in tripep_index[order_1]:\n",
    "            tripep_feat_vec[order_1] += tripeptide_convert(peptide_seq[ i_tripep[0] ],\n",
    "                                           peptide_seq[ i_tripep[1] ],\n",
    "                                           peptide_seq[ i_tripep[2] ])  \n",
    "    # weight the frequency of finding each type of tripeptide by peptide length    \n",
    "    tripep_feat_vec = tripep_feat_vec / peptide_length\n",
    "    return tripep_feat_vec    \n"
   ]
  },
  {
   "cell_type": "code",
   "execution_count": 104,
   "id": "7162021e",
   "metadata": {},
   "outputs": [],
   "source": [
    "peptide_list = ['EEQAKTFLDKFNHEAEDLFYQSSLASWNYN','ALWKDILKNAGKAALNEINQIVQ','ALWKDILKNLLKAALNEINQIVQ','ALWKDILKNAGKAALNEINQLVNQ','AVDLAKIANIANKVLSSLFGK','GLLSSLSSVA','TPFKISIHL','ASILTNAS','ITVCISVC','ISVCITVC','PHSCN']\n",
    "peptide_feats_list = []\n",
    "for peptide_seq in peptide_list:\n",
    "    peptide_feats_list.append( peptide_tripep(peptide_seq).flatten() )\n",
    "peptide_vec_array = np.array(peptide_feats_list)\n",
    "peptide_vec_avg = np.average(peptide_vec_array,axis=0)\n",
    "peptide_feat_argsort = np.argsort(peptide_vec_avg)[::-1]"
   ]
  },
  {
   "cell_type": "code",
   "execution_count": 105,
   "id": "e384026d",
   "metadata": {},
   "outputs": [
    {
     "name": "stdout",
     "output_type": "stream",
     "text": [
      "#### feat NAME ####\n",
      "LUL\n",
      "ULU\n",
      "LUL\n",
      "LLL\n",
      "LLL\n",
      "LLL\n",
      "LLU\n",
      "ULU\n",
      "ULL\n",
      "LUU\n",
      "UUL\n",
      "UUU\n",
      "LPL\n",
      "LUU\n",
      "PLL\n",
      "LPU\n",
      "LUL\n",
      "LUU\n",
      "LLU\n",
      "LLP\n",
      "#### feat ORDER ####\n",
      "1\n",
      "1\n",
      "2\n",
      "4\n",
      "2\n",
      "3\n",
      "1\n",
      "2\n",
      "1\n",
      "1\n",
      "1\n",
      "2\n",
      "2\n",
      "2\n",
      "3\n",
      "1\n",
      "3\n",
      "3\n",
      "2\n",
      "1\n"
     ]
    }
   ],
   "source": [
    "print('#### feat NAME ####')\n",
    "for i in range(20):\n",
    "    feat_index = peptide_feat_argsort[i]\n",
    "    feat_name_index = feat_index % 125\n",
    "    print(tripeptide_name[feat_name_index])\n",
    "print('#### feat ORDER ####')\n",
    "for i in range(20):\n",
    "    feat_index = peptide_feat_argsort[i]\n",
    "    feat_order_index = (feat_index // 125)+1\n",
    "    print(feat_order_index)"
   ]
  },
  {
   "cell_type": "code",
   "execution_count": 106,
   "id": "aba6ddcb",
   "metadata": {},
   "outputs": [
    {
     "data": {
      "image/png": "[encoded data removed]",
      "text/plain": [
       "<Figure size 432x288 with 2 Axes>"
      ]
     },
     "metadata": {
      "needs_background": "light"
     },
     "output_type": "display_data"
    }
   ],
   "source": [
    "pep125_predicted_top20 = np.zeros((11,20))\n",
    "for i in range(11):\n",
    "    pep125_predicted_top20[i] = peptide_vec_array[i,peptide_feat_argsort[:20]]\n",
    "\n",
    "# normalization\n",
    "sum_row = np.sum(pep125_predicted_top20,axis=1)\n",
    "scale = np.transpose(np.meshgrid(sum_row,np.zeros(20))[0])\n",
    "pep125_predicted_top20_scaled = pep125_predicted_top20/scale\n",
    "\n",
    "# plotting\n",
    "plt.imshow(pep125_predicted_top20_scaled)\n",
    "plt.colorbar()\n",
    "plt.show()\n",
    "np.savetxt('pep125_predicted_top20.csv',pep125_predicted_top20_scaled,delimiter=',')"
   ]
  },
  {
   "cell_type": "markdown",
   "id": "6538ea25",
   "metadata": {},
   "source": [
    "### Seeking for neighbor residues"
   ]
  },
  {
   "cell_type": "code",
   "execution_count": 25,
   "id": "8e37e7ac",
   "metadata": {},
   "outputs": [
    {
     "data": {
      "text/plain": [
       "array([104, 105, 106, 107, 157])"
      ]
     },
     "execution_count": 25,
     "metadata": {},
     "output_type": "execute_result"
    }
   ],
   "source": [
    "np.where(A[res_index_binding[3]]==1)[0]"
   ]
  },
  {
   "cell_type": "markdown",
   "id": "5dbc4273",
   "metadata": {},
   "source": [
    "### Feature Importances"
   ]
  },
  {
   "cell_type": "code",
   "execution_count": 8,
   "id": "745f0a5b",
   "metadata": {},
   "outputs": [
    {
     "name": "stdout",
     "output_type": "stream",
     "text": [
      "0/1\n"
     ]
    },
    {
     "name": "stderr",
     "output_type": "stream",
     "text": [
      "/Users/thana/opt/anaconda3/lib/python3.9/site-packages/sklearn/utils/validation.py:1688: FutureWarning: Feature names only support names that are all strings. Got feature names with dtypes: ['int', 'str']. An error will be raised in 1.2.\n",
      "  warnings.warn(\n",
      "/Users/thana/opt/anaconda3/lib/python3.9/site-packages/sklearn/utils/validation.py:1688: FutureWarning: Feature names only support names that are all strings. Got feature names with dtypes: ['int', 'str']. An error will be raised in 1.2.\n",
      "  warnings.warn(\n"
     ]
    }
   ],
   "source": [
    "#***** feature importance and sequence score ******\n",
    "# binding score prototype: SUM(feature200 importance dot feature200 vector) over all residues\n",
    "# **** NEXT VERSION: also accounting clustering of positive binding residue ****\n",
    "\n",
    "importances = loaded_model.feature_importances_\n",
    "\n",
    "importances_scores = np.zeros(len(pep_data_input))\n",
    "index = 0\n",
    "for i in range(len(pep_data_input)):\n",
    "    n_amino = len(A)\n",
    "    importances_array = np.array([importances[:200] for j in range(n_amino)])\n",
    "    importances_scores[i] = np.sum(X_pep_data_input[index:index+n_amino]*importances_array)\n",
    "    index += n_amino\n",
    "\n",
    "pep_data_input[\"importances_scores\"] = importances_scores\n",
    "\n",
    "# plot score data \n",
    "plt.plot(importances_scores,'.')\n",
    "plt.show()\n",
    "#ref_score = 10.0000\n",
    "#print('percentile')\n",
    "#print(len(pep_data[pep_data.importances_scores<ref_score])/len(pep_data)*100.0)\n",
    "\n",
    "n_data = len(X_pep_data_input)\n",
    "\n",
    "# network feature extraction\n",
    "res_index_list = []\n",
    "SC_array = np.zeros(n_data)\n",
    "deg_array = np.zeros(n_data)\n",
    "commu_array = np.zeros(n_data)\n",
    "A, G, SC, sequence = network_from_PDB(protein_file)\n",
    "\n",
    "index = 0\n",
    "for entry in list(pep_data_input.entry):\n",
    "    n_amino = len(A)\n",
    "    SC_array[index:index+n_amino] = SC\n",
    "    deg_array[index:index+n_amino] = np.sum(A,axis=1)\n",
    "    commu_array[index:index+n_amino] = np.sum(G,axis=1)\n",
    "    index += n_amino\n",
    "    clear_output(wait=True)\n",
    "    print(str(entry)+'/'+str(len(pep_data_input)))\n",
    "\n",
    "# create and concat a featurized dataframe from the numpy array\n",
    "data_X_pep_input = pd.DataFrame(X_pep_data_input)\n",
    "\n",
    "# add network features\n",
    "data_X_pep_input[\"SC\"] = SC_array\n",
    "data_X_pep_input[\"deg\"] = np.log(deg_array)\n",
    "data_X_pep_input[\"commu\"] = np.log(commu_array)\n",
    "\n",
    "# run the trained ML model\n",
    "y_pred_pep = loaded_model.predict(data_X_pep_input)   \n",
    "\n",
    "# run the trained ML model - predict prob\n",
    "y_pred_pep_proba = loaded_model.predict_proba(data_X_pep_input)    "
   ]
  },
  {
   "cell_type": "code",
   "execution_count": 9,
   "id": "e0258e72",
   "metadata": {},
   "outputs": [
    {
     "name": "stderr",
     "output_type": "stream",
     "text": [
      "/var/folders/03/ww9pl1zx1y162xj16ph_rcch0000gn/T/ipykernel_21412/225140227.py:39: RuntimeWarning: invalid value encountered in true_divide\n",
      "  pep_data_input['(n_edges-n_triangles)/bind_res_num'] = (np.array(n_edges) - np.array(n_triangles))/np.array(pep_data_input.bind_res_num_pred)\n",
      "/var/folders/03/ww9pl1zx1y162xj16ph_rcch0000gn/T/ipykernel_21412/225140227.py:40: RuntimeWarning: invalid value encountered in true_divide\n",
      "  pep_data_input['(n_edges-n_triangles)/n_edges'] = (np.array(n_edges) - np.array(n_triangles))/np.array(n_edges)\n"
     ]
    },
    {
     "name": "stdout",
     "output_type": "stream",
     "text": [
      "0/1\n"
     ]
    },
    {
     "data": {
      "image/png": "[encoded data removed]",
      "text/plain": [
       "<Figure size 432x288 with 1 Axes>"
      ]
     },
     "metadata": {
      "needs_background": "light"
     },
     "output_type": "display_data"
    },
    {
     "data": {
      "image/png": "[encoded data removed]",
      "text/plain": [
       "<Figure size 432x288 with 1 Axes>"
      ]
     },
     "metadata": {
      "needs_background": "light"
     },
     "output_type": "display_data"
    }
   ],
   "source": [
    "import networkx as nx\n",
    "\n",
    "# predicted binding site and find total number of edges / triangles\n",
    "bind_res_index_pred = []\n",
    "bind_res_num_pred = []\n",
    "n_edges = []\n",
    "n_triangles = []\n",
    "n_largest_cc = []\n",
    "index = 0\n",
    "\n",
    "# specified only 1 protein\n",
    "A, G, SC, sequence = network_from_PDB(protein_file)\n",
    "\n",
    "# network with 10 Angs cutoff\n",
    "A10, G10, SC10 = network_from_PDB_cutoff(protein_file,10)\n",
    "\n",
    "for i in range(len(pep_data_input)):\n",
    "    entry = pep_data_input.entry.iloc[i]\n",
    "    n_amino = len(A10)\n",
    "    bind_res_index_ = np.where(np.array(y_pred_pep[index:index+n_amino]))[0]\n",
    "    bind_res_index_pred.append(list(bind_res_index_))\n",
    "    bind_res_num_pred.append(len(bind_res_index_))\n",
    "    subarray = A10[bind_res_index_][:,bind_res_index_]\n",
    "    n_edges.append(int(0.5*np.sum(subarray)))\n",
    "    n_triangles.append(int(sum(nx.triangles(nx.from_numpy_matrix(subarray)).values())/3))\n",
    "    if subarray.shape==(0,0):\n",
    "        subarray = np.zeros((1,1))\n",
    "    max_clust_size = int(max(np.sum(np.nan_to_num(np.ceil(expm(subarray))/np.ceil(expm(subarray))),axis=1)))\n",
    "    n_largest_cc.append(max_clust_size)\n",
    "    index += n_amino\n",
    "    clear_output(wait=True)\n",
    "    print(str(entry)+'/'+str(len(pep_data_input)))\n",
    "pep_data_input['bind_res_index_pred'] = bind_res_index_pred\n",
    "pep_data_input['bind_res_num_pred'] = bind_res_num_pred\n",
    "pep_data_input['n_edges'] = n_edges\n",
    "pep_data_input['n_largest_cc'] = n_largest_cc\n",
    "pep_data_input['n_triangles'] = n_triangles \n",
    "pep_data_input['n_edges-n_triangles'] = np.array(n_edges) - np.array(n_triangles)                 \n",
    "pep_data_input['(n_edges-n_triangles)/bind_res_num'] = (np.array(n_edges) - np.array(n_triangles))/np.array(pep_data_input.bind_res_num_pred)\n",
    "pep_data_input['(n_edges-n_triangles)/n_edges'] = (np.array(n_edges) - np.array(n_triangles))/np.array(n_edges)\n",
    "\n",
    "pep_data_positive = pep_data_input.dropna()\n",
    "plt.plot(pep_data_positive['n_edges-n_triangles'],pep_data_positive['importances_scores'],'.')\n",
    "plt.show()\n",
    "plt.plot(pep_data_positive['n_largest_cc'],pep_data_positive['importances_scores'],'.')\n",
    "plt.show()"
   ]
  },
  {
   "cell_type": "code",
   "execution_count": 10,
   "id": "8d00c6b9",
   "metadata": {},
   "outputs": [
    {
     "data": {
      "text/html": [
       "<div>\n",
       "<style scoped>\n",
       "    .dataframe tbody tr th:only-of-type {\n",
       "        vertical-align: middle;\n",
       "    }\n",
       "\n",
       "    .dataframe tbody tr th {\n",
       "        vertical-align: top;\n",
       "    }\n",
       "\n",
       "    .dataframe thead th {\n",
       "        text-align: right;\n",
       "    }\n",
       "</style>\n",
       "<table border=\"1\" class=\"dataframe\">\n",
       "  <thead>\n",
       "    <tr style=\"text-align: right;\">\n",
       "      <th></th>\n",
       "      <th>entry</th>\n",
       "      <th>peptide_seq</th>\n",
       "      <th>len_peptide_seq</th>\n",
       "      <th>importances_scores</th>\n",
       "      <th>bind_res_index_pred</th>\n",
       "      <th>bind_res_num_pred</th>\n",
       "      <th>n_edges</th>\n",
       "      <th>n_largest_cc</th>\n",
       "      <th>n_triangles</th>\n",
       "      <th>n_edges-n_triangles</th>\n",
       "      <th>(n_edges-n_triangles)/bind_res_num</th>\n",
       "      <th>(n_edges-n_triangles)/n_edges</th>\n",
       "    </tr>\n",
       "  </thead>\n",
       "  <tbody>\n",
       "  </tbody>\n",
       "</table>\n",
       "</div>"
      ],
      "text/plain": [
       "Empty DataFrame\n",
       "Columns: [entry, peptide_seq, len_peptide_seq, importances_scores, bind_res_index_pred, bind_res_num_pred, n_edges, n_largest_cc, n_triangles, n_edges-n_triangles, (n_edges-n_triangles)/bind_res_num, (n_edges-n_triangles)/n_edges]\n",
       "Index: []"
      ]
     },
     "execution_count": 10,
     "metadata": {},
     "output_type": "execute_result"
    }
   ],
   "source": [
    "pep_data_positive.sort_values('bind_res_num_pred',ascending=False).to_csv('rbd_screened.csv')\n",
    "pep_data_positive.sort_values('bind_res_num_pred',ascending=False)"
   ]
  },
  {
   "cell_type": "code",
   "execution_count": 11,
   "id": "4e87a8a2",
   "metadata": {},
   "outputs": [
    {
     "name": "stdout",
     "output_type": "stream",
     "text": [
      "0.07130100792201761\n"
     ]
    },
    {
     "data": {
      "image/png": "[encoded data removed]",
      "text/plain": [
       "<Figure size 432x288 with 1 Axes>"
      ]
     },
     "metadata": {
      "needs_background": "light"
     },
     "output_type": "display_data"
    }
   ],
   "source": [
    "entry = 0\n",
    "n_amino = len(A)\n",
    "plt.ylim(0,1)\n",
    "plt.plot(y_pred_pep_proba[entry*n_amino:(entry+1)*n_amino,1])\n",
    "print(sum(y_pred_pep_proba[entry*n_amino:(entry+1)*n_amino,1])/n_amino)\n",
    "plt.show()"
   ]
  },
  {
   "cell_type": "code",
   "execution_count": 12,
   "id": "3aac66bd",
   "metadata": {},
   "outputs": [
    {
     "name": "stdout",
     "output_type": "stream",
     "text": [
      "0.0\n"
     ]
    },
    {
     "data": {
      "image/png": "[encoded data removed]",
      "text/plain": [
       "<Figure size 432x288 with 1 Axes>"
      ]
     },
     "metadata": {
      "needs_background": "light"
     },
     "output_type": "display_data"
    }
   ],
   "source": [
    "entry = 1\n",
    "n_amino = len(A)\n",
    "plt.ylim(0,1)\n",
    "plt.plot(y_pred_pep_proba[entry*n_amino:(entry+1)*n_amino,1])\n",
    "print(sum(y_pred_pep_proba[entry*n_amino:(entry+1)*n_amino,1])/n_amino)\n",
    "plt.show()"
   ]
  },
  {
   "cell_type": "code",
   "execution_count": 99,
   "id": "fa4c53ba",
   "metadata": {},
   "outputs": [],
   "source": [
    "deg = np.sum(A,axis=1)\n",
    "commu = np.sum(G,axis=1)"
   ]
  },
  {
   "cell_type": "code",
   "execution_count": 101,
   "id": "af979fcf",
   "metadata": {},
   "outputs": [
    {
     "data": {
      "text/plain": [
       "array([ 60, 170,  59, 168, 167, 169,  61,  57, 166, 171, 172,  58,  13,\n",
       "        10,  62,   8,   9,  56,  95, 173,  14,  15,  64,  94,  55,  93,\n",
       "        92,  63, 165,  96, 174,  98,  11,  12,   7,  97,  16,  54,  17,\n",
       "        91, 164, 113, 112,  99,  82, 156,  90,  39,  37, 175,  18,  38,\n",
       "        36,  79, 163,  81, 114,  66,  80,  40, 102, 103,  35,  65,  53,\n",
       "        52, 157, 162,  78, 115,  83, 151,  67,  84, 104, 152, 183, 158,\n",
       "       160, 153,  69, 150,  89,  34,  41, 108, 161,  19, 111, 107,  77,\n",
       "       155, 101, 100, 176, 154,  85,  76,  20, 121, 105,  42, 127, 128,\n",
       "       109,  68, 133,   6, 182, 132, 148,  75, 124, 184, 123,  86,  70,\n",
       "       116, 149, 147, 126,  74,  71, 120,  21, 117, 110, 159,  72, 122,\n",
       "       177, 106,  43,  23, 125, 134,  87,  88,  22, 143,   4,  51,  44,\n",
       "         5, 130, 179, 146, 144,  33, 185, 135,  73, 131, 129,  24, 119,\n",
       "        25,  32, 178, 145, 142,  46,  27,  47,  29,  49, 180,  26,  31,\n",
       "        28, 136, 186,  45,  30, 181,  48,   3, 140,  50, 118,   2,   1,\n",
       "         0, 138, 141, 137, 139, 187, 190, 188, 192, 191, 193, 189, 194])"
      ]
     },
     "execution_count": 101,
     "metadata": {},
     "output_type": "execute_result"
    }
   ],
   "source": [
    "np.argsort(commu)[::-1]"
   ]
  },
  {
   "cell_type": "code",
   "execution_count": 102,
   "id": "4188f216",
   "metadata": {},
   "outputs": [
    {
     "data": {
      "text/plain": [
       "array([166, 167,  79,  60,   9, 165, 168,  56, 170, 172, 157,  57,  81,\n",
       "        10,  59,  80, 183,  95,  64,  54,  84, 150,  58, 156, 147,  61,\n",
       "        11, 132, 133,  55,  63, 112,   8, 174, 103,  39,  92,  69,  13,\n",
       "       173, 171, 169,  89,  90,  91, 115, 114, 113,  82,  93,  94,  96,\n",
       "       104,  85, 148, 164,  62,  52,  53,  99,  12,  98,  14,   7, 184,\n",
       "       182, 108,  17, 175, 107,  15, 121,  40,  83, 158, 153, 151,  23,\n",
       "        78,  38,  36,  35,  37,  71,  41,  27,  47,  86,  67,  65,  25,\n",
       "        72,  66,  97,   4, 143, 124, 123, 152, 185, 155, 160,  16, 163,\n",
       "        29,  18, 109,  22, 134, 102, 146,  42,  43,  68,  44,  30, 144,\n",
       "       149, 161, 162, 176, 179,  26,  49, 154,  74,  46,  21,  31, 117,\n",
       "        20,  24,  87,  19, 105, 122, 125,  28, 127, 128,  77,  76,  34,\n",
       "       111,   3, 177,  32, 100,  48,  51, 116, 120, 126,  75, 130,  70,\n",
       "       135, 136, 101, 142, 140,   5,   6,   2,   1,   0,  33, 186, 178,\n",
       "       159, 145,  45, 138, 190, 131, 129, 119, 110, 106, 192,  88,  73,\n",
       "        50, 180, 191, 188, 139, 181, 137, 193, 187, 141, 189, 118, 194])"
      ]
     },
     "execution_count": 102,
     "metadata": {},
     "output_type": "execute_result"
    }
   ],
   "source": [
    "np.argsort(deg)[::-1]"
   ]
  },
  {
   "cell_type": "code",
   "execution_count": 103,
   "id": "01f237f9",
   "metadata": {},
   "outputs": [
    {
     "data": {
      "text/plain": [
       "array([ 60, 167, 166, 170,  57, 168, 172,  59,  56, 171, 169,  58,  61,\n",
       "        13,  10,  64,   9, 173,   8,  55, 165,  95,  63,  62, 174,  92,\n",
       "        54,  79,  93,  80,  15,  94,  14, 164,  96,  81,  98, 157,  11,\n",
       "       156,  91,  17,  12,  82, 103, 113,  16,  97, 104,  99, 112,  84,\n",
       "        78,  83,   7, 183,  39, 175,  90, 163,  52, 114,  53, 148, 150,\n",
       "        18, 132,  40, 147, 158, 108, 107, 133,  65, 115,  69,  38, 151,\n",
       "        37,  66, 102, 162,  36, 152,  77,  89,  67,  85,  76, 153, 160,\n",
       "        41, 155, 105, 121,  35, 134, 184, 161, 143, 182,  19, 149, 123,\n",
       "        20,  23, 146, 124, 176, 109,  75,  86,  42,  22, 101, 100, 111,\n",
       "        34, 154,  21,  27, 144,  29, 122,  72,  68,  74, 106,  71,  28,\n",
       "       116, 120,  25,  26, 135,  30,  70,  87, 185, 127,  43, 128, 125,\n",
       "        24,  31, 117, 177,  44, 159,  51, 179,   4, 145,  47,   6,  46,\n",
       "       126, 110,  88, 130, 142,  49,  32, 131, 136,  48,  73,   3,   5,\n",
       "       186,  45,  33, 178,   2,   0,   1, 140, 180,  50, 119, 129, 181,\n",
       "       138, 192, 190, 137, 139, 191, 193, 118, 141, 188, 194, 189, 187])"
      ]
     },
     "execution_count": 103,
     "metadata": {},
     "output_type": "execute_result"
    }
   ],
   "source": [
    "np.argsort(SC)[::-1]"
   ]
  },
  {
   "cell_type": "code",
   "execution_count": 113,
   "id": "2bb5c694",
   "metadata": {},
   "outputs": [
    {
     "name": "stdout",
     "output_type": "stream",
     "text": [
      "[365 366 367 368 369 370 371 372]\n",
      "[371 372 373 374 375]\n",
      "[372 373 374 375 376 435 436]\n",
      "[373 374 375 376 377 435 436 437]\n",
      "[418 419 420 421 422 423 424 425 464]\n",
      "[449 451 452 493 494 495 496]\n",
      "[344 345 346 347 348 349 399 400 401]\n",
      "[472 473 483 488 489 490 491]\n",
      "[447 448 449 493 494 495 496 497]\n"
     ]
    }
   ],
   "source": [
    "for i in [29,33,34,35,83,154,7,149,155]:\n",
    "    print(np.where(A[i]==1)[0]+340)"
   ]
  },
  {
   "cell_type": "code",
   "execution_count": 114,
   "id": "83522012",
   "metadata": {},
   "outputs": [
    {
     "data": {
      "text/plain": [
       "array([369, 373, 374, 375, 423, 494, 347, 489, 495])"
      ]
     },
     "execution_count": 114,
     "metadata": {},
     "output_type": "execute_result"
    }
   ],
   "source": [
    "340+np.array([29,33,34,35,83,154,7,149,155])"
   ]
  },
  {
   "cell_type": "code",
   "execution_count": 115,
   "id": "2fe68bb9",
   "metadata": {},
   "outputs": [
    {
     "data": {
      "text/plain": [
       "195"
      ]
     },
     "execution_count": 115,
     "metadata": {},
     "output_type": "execute_result"
    }
   ],
   "source": [
    "len(A)"
   ]
  }
 ],
 "metadata": {
  "kernelspec": {
   "display_name": "Python 3 (ipykernel)",
   "language": "python",
   "name": "python3"
  },
  "language_info": {
   "codemirror_mode": {
    "name": "ipython",
    "version": 3
   },
   "file_extension": ".py",
   "mimetype": "text/x-python",
   "name": "python",
   "nbconvert_exporter": "python",
   "pygments_lexer": "ipython3",
   "version": "3.9.12"
  }
 },
 "nbformat": 4,
 "nbformat_minor": 5
}
